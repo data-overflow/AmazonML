{
 "cells": [
  {
   "cell_type": "markdown",
   "metadata": {},
   "source": [
    "# Amazon ML Challenge HYPER FAST APPROACH"
   ]
  },
  {
   "cell_type": "markdown",
   "metadata": {},
   "source": [
    "## Importing packages"
   ]
  },
  {
   "cell_type": "code",
   "execution_count": 1,
   "metadata": {},
   "outputs": [],
   "source": [
    "import numpy as np\n",
    "import pandas as pd\n"
   ]
  },
  {
   "cell_type": "markdown",
   "metadata": {},
   "source": [
    "## Loading the data"
   ]
  },
  {
   "cell_type": "code",
   "execution_count": 3,
   "metadata": {},
   "outputs": [
    {
     "data": {
      "text/html": [
       "<div>\n",
       "<style scoped>\n",
       "    .dataframe tbody tr th:only-of-type {\n",
       "        vertical-align: middle;\n",
       "    }\n",
       "\n",
       "    .dataframe tbody tr th {\n",
       "        vertical-align: top;\n",
       "    }\n",
       "\n",
       "    .dataframe thead th {\n",
       "        text-align: right;\n",
       "    }\n",
       "</style>\n",
       "<table border=\"1\" class=\"dataframe\">\n",
       "  <thead>\n",
       "    <tr style=\"text-align: right;\">\n",
       "      <th></th>\n",
       "      <th>index</th>\n",
       "      <th>image_link</th>\n",
       "      <th>group_id</th>\n",
       "      <th>entity_name</th>\n",
       "    </tr>\n",
       "  </thead>\n",
       "  <tbody>\n",
       "    <tr>\n",
       "      <th>0</th>\n",
       "      <td>0</td>\n",
       "      <td>https://m.media-amazon.com/images/I/41-NCxNuBx...</td>\n",
       "      <td>658003</td>\n",
       "      <td>width</td>\n",
       "    </tr>\n",
       "    <tr>\n",
       "      <th>1</th>\n",
       "      <td>1</td>\n",
       "      <td>https://m.media-amazon.com/images/I/41-NCxNuBx...</td>\n",
       "      <td>658003</td>\n",
       "      <td>depth</td>\n",
       "    </tr>\n",
       "    <tr>\n",
       "      <th>2</th>\n",
       "      <td>2</td>\n",
       "      <td>https://m.media-amazon.com/images/I/417NJrPEk+...</td>\n",
       "      <td>939426</td>\n",
       "      <td>maximum_weight_recommendation</td>\n",
       "    </tr>\n",
       "    <tr>\n",
       "      <th>3</th>\n",
       "      <td>3</td>\n",
       "      <td>https://m.media-amazon.com/images/I/417SThj+Sr...</td>\n",
       "      <td>276700</td>\n",
       "      <td>voltage</td>\n",
       "    </tr>\n",
       "    <tr>\n",
       "      <th>4</th>\n",
       "      <td>4</td>\n",
       "      <td>https://m.media-amazon.com/images/I/417SThj+Sr...</td>\n",
       "      <td>276700</td>\n",
       "      <td>wattage</td>\n",
       "    </tr>\n",
       "  </tbody>\n",
       "</table>\n",
       "</div>"
      ],
      "text/plain": [
       "   index                                         image_link  group_id  \\\n",
       "0      0  https://m.media-amazon.com/images/I/41-NCxNuBx...    658003   \n",
       "1      1  https://m.media-amazon.com/images/I/41-NCxNuBx...    658003   \n",
       "2      2  https://m.media-amazon.com/images/I/417NJrPEk+...    939426   \n",
       "3      3  https://m.media-amazon.com/images/I/417SThj+Sr...    276700   \n",
       "4      4  https://m.media-amazon.com/images/I/417SThj+Sr...    276700   \n",
       "\n",
       "                     entity_name  \n",
       "0                          width  \n",
       "1                          depth  \n",
       "2  maximum_weight_recommendation  \n",
       "3                        voltage  \n",
       "4                        wattage  "
      ]
     },
     "execution_count": 3,
     "metadata": {},
     "output_type": "execute_result"
    }
   ],
   "source": [
    "test = pd.read_csv(\"../dataset/sample_test.csv\")\n",
    "test_out = pd.read_csv(\"../dataset/sample_test_out.csv\")\n",
    "test.head()"
   ]
  },
  {
   "cell_type": "code",
   "execution_count": 4,
   "metadata": {},
   "outputs": [],
   "source": [
    "IMAGE_DIRECTORY = \"../images/sample/\"\n",
    "test['image_link'] = [i.strip(\"https://m.media-amazon.com/images/I/\")[:-2] for i in test['image_link']]"
   ]
  },
  {
   "cell_type": "code",
   "execution_count": 7,
   "metadata": {},
   "outputs": [
    {
     "name": "stdout",
     "output_type": "stream",
     "text": [
      "<class 'pandas.core.frame.DataFrame'>\n",
      "RangeIndex: 88 entries, 0 to 87\n",
      "Data columns (total 4 columns):\n",
      " #   Column       Non-Null Count  Dtype \n",
      "---  ------       --------------  ----- \n",
      " 0   index        88 non-null     int64 \n",
      " 1   image_link   88 non-null     object\n",
      " 2   group_id     88 non-null     int64 \n",
      " 3   entity_name  88 non-null     object\n",
      "dtypes: int64(2), object(2)\n",
      "memory usage: 2.9+ KB\n"
     ]
    }
   ],
   "source": [
    "test.info()"
   ]
  },
  {
   "cell_type": "markdown",
   "metadata": {},
   "source": [
    "## Performing OCR Using Tesseract"
   ]
  },
  {
   "cell_type": "code",
   "execution_count": 6,
   "metadata": {},
   "outputs": [],
   "source": [
    "from PIL import Image\n",
    "import pytesseract\n",
    "pytesseract.pytesseract.tesseract_cmd = r\"D:\\Programs\\TesseractOCR\\tesseract.exe\""
   ]
  },
  {
   "cell_type": "code",
   "execution_count": 9,
   "metadata": {},
   "outputs": [
    {
     "name": "stdout",
     "output_type": "stream",
     "text": [
      "CPU times: total: 172 ms\n",
      "Wall time: 49.3 s\n"
     ]
    }
   ],
   "source": [
    "%time\n",
    "output = []\n",
    "for image_name in test['image_link']:\n",
    "    output.append(pytesseract.image_to_string(IMAGE_DIRECTORY + image_name + '.jpg'))\n"
   ]
  },
  {
   "cell_type": "code",
   "execution_count": 14,
   "metadata": {},
   "outputs": [
    {
     "name": "stdout",
     "output_type": "stream",
     "text": [
      "CPU times: total: 0 ns\n",
      "Wall time: 0 ns\n",
      "['20CM\\n\\nL5G\\n\\n', '20CM\\n\\nL5G\\n\\n', 'Deodorizing module Cat litter shovel\\n\\n‘Adsorb harmful substances and reduce odor Regardless of soll sand,\\n\\n‘wood sand, crystal sand,\\nfilter unused cat litter\\n\\n', 'Blade Diameter 05am\\nRated Voltage: nav\\nFrequency: son\\nRated input Power 2100W\\n\\nfoLoad Speed 500\\n\\n9° HID W330\\n\\nMax Curing Capacity: Gr HD WI6oan\\n\\n‘Max Cuting Capacity {9 HO)aW20an\\n\\n', 'Blade Diameter 05am\\nRated Voltage: nav\\nFrequency: son\\nRated input Power 2100W\\n\\nfoLoad Speed 500\\n\\n9° HID W330\\n\\nMax Curing Capacity: Gr HD WI6oan\\n\\n‘Max Cuting Capacity {9 HO)aW20an\\n\\n', '', 'sow=40W\\n470 Im\\n\\n', 'sow=40W\\n470 Im\\n\\n', 'Ideal Bed & Armchair Cover\\n\\nNeat size foldaway\\n\\nReversible; black on one\\nside & grey on the other\\n\\n9010\\n\\n29cm\\n\\nSturdy & lightweight\\n\\nQ\\n\\nein 2.6 Ibs 1.2 kg\\n\\n60cm\\n', '', '“0.2”\\n\\n', '“0.2”\\n\\n', '', '', '7\\n\\n44\"\\n\\n6.75 LBS\\n\\n', 'i“\\n\\nDesktop Size\\n\\n40\"\\n\\n<u\\n\\no> 9 Ly XeUl ~, QZ\" UIL en\\n', 'i“\\n\\nDesktop Size\\n\\n40\"\\n\\n<u\\n\\no> 9 Ly XeUl ~, QZ\" UIL en\\n', '6.2 in/ 16cm\\n\\n9.4 in / 24cm\\n', '6.2 in/ 16cm\\n\\n9.4 in / 24cm\\n', 'Width\\n\\n1C.M.\\n\\nLength\\n\\n9 Meter\\n', 'Width\\n\\n1C.M.\\n\\nLength\\n\\n9 Meter\\n', 'Width\\n\\n1C.M.\\n\\nLength\\n\\n9 Meter\\n', '69cm / 27.2inch\\n\\n', '69cm / 27.2inch\\n\\n', '12V 42v Car Heating  ——\\nPowered aon —_\\n\\nfuse, effectively prevent electrical overload, universal for\\n412V power source cars\\n\\n', '12V 42v Car Heating  ——\\nPowered aon —_\\n\\nfuse, effectively prevent electrical overload, universal for\\n412V power source cars\\n\\n', '', '', '', '', '', '', 'UG’ Z/W98 |\\n', 'UG’ Z/W98 |\\n', 'Our Faux-Leather & Textured Velvet\\nfabrics are durable as they are soft\\n\\nCushion covers are removable and machine washable\\nEasy to spot clean all other surfaces\\n\\nFoam cushion for\\ncomfort and support\\n\\n‘Toggle and loop secures\\ncushion from sliding\\n\\nFOR LARGE\\nDOGS UP TO\\n\\n15 bs| Maxwell Sofa\\n\\n', '', 'B#H11.4cm\\n\\n#913.8\\n\\nif ey DeliveryxService :\\n\\n', '12inches\\n/30.5cm\\n\\nkzinches 6inches\\n\\n9.5inches/24.1cm /10.7cm\\n', 'Size Comparison\\n\\nExample size\\nSamsung S9+\\n\\n', '6.1Inches\\n\\n4.2 Inches\\n\\n¢— E26 Medium Base\\n', '6.1Inches\\n\\n4.2 Inches\\n\\n¢— E26 Medium Base\\n', '6.1Inches\\n\\n4.2 Inches\\n\\n¢— E26 Medium Base\\n', 'GROWS WITH\\nYOUR CHILD\\n\\nAccommodates\\nchildren ages 3-6\\n\\n‘Adjustable\\nheight lock\\n', 'Tupi\\n| D>\\n\\nan\\n\\n', 'Tupi\\n| D>\\n\\nan\\n\\n', '', '', '', 'ENERGY INFORMATION\\nat High Speed\\n\\nAirflow\\n\\n4,400\\n\\nCubic Feet\\nPer Minute\\n\\nElectricity Use\\n\\n45\\n\\nWatts\\n(excludes lights)\\n\\nAirflow Efficiency\\n\\n98\\n\\nCubic Feet Per\\nMinute Per Watt\\n\\nCompare: 36\" to 48\" ceiling fans have airflow efficiencies\\nranging from approximately 71 to 86 cubic feet per\\nminute per watt at high speed\\n\\nMoney-Saving Tip: Turn off fan when leaving room,\\n\\n', 'ENERGY INFORMATION\\nat High Speed\\n\\nAirflow\\n\\n4,400\\n\\nCubic Feet\\nPer Minute\\n\\nElectricity Use\\n\\n45\\n\\nWatts\\n(excludes lights)\\n\\nAirflow Efficiency\\n\\n98\\n\\nCubic Feet Per\\nMinute Per Watt\\n\\nCompare: 36\" to 48\" ceiling fans have airflow efficiencies\\nranging from approximately 71 to 86 cubic feet per\\nminute per watt at high speed\\n\\nMoney-Saving Tip: Turn off fan when leaving room,\\n\\n', 'ENERGY INFORMATION\\nat High Speed\\n\\nAirflow\\n\\n4,400\\n\\nCubic Feet\\nPer Minute\\n\\nElectricity Use\\n\\n45\\n\\nWatts\\n(excludes lights)\\n\\nAirflow Efficiency\\n\\n98\\n\\nCubic Feet Per\\nMinute Per Watt\\n\\nCompare: 36\" to 48\" ceiling fans have airflow efficiencies\\nranging from approximately 71 to 86 cubic feet per\\nminute per watt at high speed\\n\\nMoney-Saving Tip: Turn off fan when leaving room,\\n\\n', '1st press, power on; 2nd press, led light off, peace\\nand quiet, operating as quietly as 30dB;\\n3rd press, shut off\\n\\nww\\n\\nDetail Display\\n\\nA\\n\\nLarge air Inlet design, 1200ml big capacity _High effiction sterilization\\n‘ABS material BPA free material filter design\\n', 'YVICCO\\n\\n100 cn\\n\\n', '', '', '', 'Model Name\\nCommercial Ice Maker\\nMachine\\n\\nCapacity\\n0.6 Cubic Feet\\n\\nWattage\\n280.0 Watts\\n\\nVoltage\\n120.0 Volts of\\nAlternating Current\\n', 'Model Name\\nCommercial Ice Maker\\nMachine\\n\\nCapacity\\n0.6 Cubic Feet\\n\\nWattage\\n280.0 Watts\\n\\nVoltage\\n120.0 Volts of\\nAlternating Current\\n', '', '', '', 'THE PRODUCT IS MADE OF PE MATERIAL\\nSTRONG FLEXIBILITY, LONG USE TIME\\n\\n10*30MM\\n\\nAFTER PUTTING IN THE PROTECTIVE OBJECT, IT ALSO PLAYS\\nTHE ROLE OF SHOCK ABSORPTION BB AVOID SLIDING\\n', '51CM\\n\\ngoCM | 61CM\\n\\nPerfect Size\\n\\n', 'In the Box\\n\\nHandle x 1\\n68.3mm\\ne e e\\nSpecifications\\nID 4153\\nCompatibility Cage, plate, etc. mount for ARRI-style\\n\\nProduct Dimensions 134.0 x 68.3 x 27.8mm\\nPackage Dimensions 155.0 x 81.5 x 42.0mm\\n\\nProduct Weight 156.0 + 5g\\n\\nPackage Weight 192.2 + 5g\\n\\nMaterial(s) Aluminum Alloy\\n', 'In the Box\\n\\nHandle x 1\\n68.3mm\\ne e e\\nSpecifications\\nID 4153\\nCompatibility Cage, plate, etc. mount for ARRI-style\\n\\nProduct Dimensions 134.0 x 68.3 x 27.8mm\\nPackage Dimensions 155.0 x 81.5 x 42.0mm\\n\\nProduct Weight 156.0 + 5g\\n\\nPackage Weight 192.2 + 5g\\n\\nMaterial(s) Aluminum Alloy\\n', 'sew {18.2 €05 DESERT TAN\\n\\nSMALL BUT MIGHTY ,\\n\\nALL-IN-ONE RECHARGEABLE KEYCHAIN LIGHT\\n\\n150 wumens | .°\\n', '4A CURRENT, MORE STABLE FOR CHARGING\\n\\nIT TAKES ABOUT 90 MINUTES TO FULLY CHARGE THREE BAT-\\nTERIES AT ONCE\\n\\nOUTPUT: DC 17.6V, 12A (EACH CHANNEL 17.6V, 4A)\\n', '80 PLUS\\nCERTIFICATE\\n\\nLONG CONNECTOR\\nCABLES\\n\\n12CM FAN\\n\\n500 WATTS\\n', '80 PLUS\\nCERTIFICATE\\n\\nLONG CONNECTOR\\nCABLES\\n\\n12CM FAN\\n\\n500 WATTS\\n', 'FEVER VE ae EY\\n\\n', 'FEVER VE ae EY\\n\\n', '40LB\\nLARGE\\nCAPACITY\\n\\n©\\n8 Mins\\n\\nFast Ice Making\\n\\napr\\n\\nNew Design\\nand\\n\\nPremium Quality\\n\\n', '40LB\\nLARGE\\nCAPACITY\\n\\n©\\n8 Mins\\n\\nFast Ice Making\\n\\napr\\n\\nNew Design\\nand\\n\\nPremium Quality\\n\\n', 'Color : Stainless steel Product dimensions: 11.7*14.4*14.8 in\\nIce Store Capacity : 2.2 lbs Capacity of making ice : 33 lbs/day\\n\\nPower Rate: 110W Water tank capacity : 3.2L\\n', 'Color : Stainless steel Product dimensions: 11.7*14.4*14.8 in\\nIce Store Capacity : 2.2 lbs Capacity of making ice : 33 lbs/day\\n\\nPower Rate: 110W Water tank capacity : 3.2L\\n', 'Canon\\n\\nPHOTO ACCESSORIES\\n\\nDeluxe Ball Head 10\\n\\nSPECIFICATIONS:\\n\\neHeavy-duty metal construction\\n\\n@Designed for a wide range of photo enthusiasts\\n\\n@Single-action large handle for fast and precise positioning\\nExceptionally smooth rotation and positive locking handle\\n\\n@Incorporates 1/4” tripod screw\\n>Weight: 1.1lbs. —=—S\\n\\nColor: Black mm)\\n—\\n\\n', 'Canon\\n\\nPHOTO ACCESSORIES\\n\\nDeluxe Ball Head 10\\n\\nSPECIFICATIONS:\\n\\neHeavy-duty metal construction\\n\\n@Designed for a wide range of photo enthusiasts\\n\\n@Single-action large handle for fast and precise positioning\\nExceptionally smooth rotation and positive locking handle\\n\\n@Incorporates 1/4” tripod screw\\n>Weight: 1.1lbs. —=—S\\n\\nColor: Black mm)\\n—\\n\\n', '@ ht design Chip transfer speed The sound is synchronized\\n\\nincreased by 90% with the an sound\\n\\nPoe\\n\\nm ) 2\\n“qh | 7° 24h ~~ 480h\\n\\nExtra long endurance Extra long standby\\n{used with charging cabin) (used with charging cabin)\\n\\nSmart charging\\n\\n', 'Max 60W\\nPower Delivery\\n\\nFast charging your USB-C laptop\\nY\\n\\n', '®@ 85-265v 100w\\n\\nPower adapter\\n\\n@AC cable\\n\\nadapter\\n\\nLED drive\\n\\nAssembly Display\\n\\nFan drive\\n', '®@ 85-265v 100w\\n\\nPower adapter\\n\\n@AC cable\\n\\nadapter\\n\\nLED drive\\n\\nAssembly Display\\n\\nFan drive\\n', \"Product Information\\n\\nSpecifications:\\n\\nMaterial: Premium Beech Wood\\n\\nSize: 50*13.5*11¢0m / 19.7*13.5*4.1inch\\nRod Diameter: 3.8cm / 1.5inch\\n\\nWeight: 2.1KG / 4.6lbs\\n\\nLoad Bearing: 300KG / 660lbs\\n\\nLarge Size:\\n\\n16.9in/43cm\\n\\n= W9G'OL/ULL 7\\n\\n~ 19.7in/50cm ~ <— 5.3in/13.5cm —>\\n\\n\", \"Product Information\\n\\nSpecifications:\\n\\nMaterial: Premium Beech Wood\\n\\nSize: 50*13.5*11¢0m / 19.7*13.5*4.1inch\\nRod Diameter: 3.8cm / 1.5inch\\n\\nWeight: 2.1KG / 4.6lbs\\n\\nLoad Bearing: 300KG / 660lbs\\n\\nLarge Size:\\n\\n16.9in/43cm\\n\\n= W9G'OL/ULL 7\\n\\n~ 19.7in/50cm ~ <— 5.3in/13.5cm —>\\n\\n\", '// Ruedamann Applicable to multiple equipment\\n\\nWheelchairs Cars Scooters Cleaning robot\\n\\nCapacity:\\n\\n15001BS\\n\\n', 'oP aaa ae Dopo te ppt\\ncee Hee He re tide cee Wa we ane EELS\\n\\nak\\nSica bet tae et bate DCTRH: =\\n:\\n\\nfen) eat > pi we) 5 Cen od ead) Sine 3\\nay\\n\\nNEMIX\\n\\n16GB (2 x 8GB)\\n\\nDDR4 3200MHz PC4-25600\\nECC UDIMM\\n\\nATTENTION\\nELECTROSTATIC\\nSENSITIVE DEVICE\\n\\nME25600-818\\nLIFETIME WARRANTY\\n\\nGon) Figen) te tan\\nait\\na\\n\\noe a)\\n\\n', '4+\\n\\n', '', '']\n"
     ]
    }
   ],
   "source": [
    "print(output)"
   ]
  },
  {
   "cell_type": "markdown",
   "metadata": {},
   "source": [
    "## Extracting Numbers and Units from the text"
   ]
  },
  {
   "cell_type": "code",
   "execution_count": 12,
   "metadata": {},
   "outputs": [],
   "source": [
    "import re\n",
    "unit_map = {\n",
    "    \"width\": {\"centimetre\", \"cm\", \"foot\", \"ft\", \"millimetre\", \"mm\", \"metre\", \"m\", \"inch\", \"in\", \"yard\", \"yd\"},\n",
    "    \"depth\": {\"centimetre\", \"cm\", \"foot\", \"ft\", \"millimetre\", \"mm\", \"metre\", \"m\", \"inch\", \"in\", \"yard\", \"yd\"},\n",
    "    \"height\": {\"centimetre\", \"cm\", \"foot\", \"ft\", \"millimetre\", \"mm\", \"metre\", \"m\", \"inch\", \"in\", \"yard\", \"yd\"},\n",
    "    \"item_weight\": {\"milligram\", \"mg\", \"kilogram\", \"kg\", \"microgram\", \"µg\", \"gram\", \"g\", \"ounce\", \"oz\", \"ton\", \"pound\", \"lb\"},\n",
    "    \"maximum_weight_recommendation\": {\"milligram\", \"mg\", \"kilogram\", \"kg\", \"microgram\", \"µg\", \"gram\", \"g\", \"ounce\", \"oz\", \"ton\", \"pound\", \"lb\"},\n",
    "    \"voltage\": {\"millivolt\", \"mv\", \"kilovolt\", \"kv\", \"volt\", \"v\"},\n",
    "    \"wattage\": {\"kilowatt\", \"kw\", \"watt\", \"w\"},\n",
    "    \"item_volume\": {\"cubic foot\", \"ft3\", \"microlitre\", \"µL\", \"cup\", \"fluid ounce\", \"fl oz\", \"centilitre\", \"cL\", \"imperial gallon\", \"gal\", \"pint\", \"pt\", \"decilitre\", \"dL\", \"litre\", \"L\", \"millilitre\", \"mL\", \"quart\", \"qt\", \"cubic inch\", \"in3\", \"gallon\", \"gal\"}\n",
    "}\n",
    "\n",
    "entity_unit_map = {\n",
    "    \"width\": {\"centimetre\", \"foot\", \"millimetre\", \"metre\", \"inch\", \"yard\"},\n",
    "    \"depth\": {\"centimetre\", \"foot\", \"millimetre\", \"metre\", \"inch\", \"yard\"},\n",
    "    \"height\": {\"centimetre\", \"foot\", \"millimetre\", \"metre\", \"inch\", \"yard\"},\n",
    "    \"item_weight\": {\"milligram\", \"kilogram\", \"microgram\", \"gram\", \"ounce\", \"ton\", \"pound\"},\n",
    "    \"maximum_weight_recommendation\": {\"milligram\", \"kilogram\", \"microgram\", \"gram\", \"ounce\", \"ton\", \"pound\"},\n",
    "    \"voltage\": {\"millivolt\", \"kilovolt\", \"volt\"},\n",
    "    \"wattage\": {\"kilowatt\", \"watt\"},\n",
    "    \"item_volume\": {\"cubic foot\", \"microlitre\", \"cup\", \"fluid ounce\", \"centilitre\", \"imperial gallon\", \"pint\", \"decilitre\", \"litre\", \"millilitre\", \"quart\", \"cubic inch\", \"gallon\"}\n",
    "}\n",
    "\n",
    "# Generate regex pattern from unit_map\n",
    "def generate_unit_pattern(unit_map):\n",
    "    units = set()\n",
    "    for unit_set in unit_map.values():\n",
    "        units.update(unit_set)\n",
    "    \n",
    "    # Escape special regex characters and join units into a pattern\n",
    "    escaped_units = [re.escape(unit) for unit in units]\n",
    "    pattern = r'\\d+(?:[\\.,]\\d+)?\\s*(?:'+'|'.join(escaped_units) + r')?'\n",
    "    return pattern\n",
    "\n",
    "# Compile the regular expression pattern\n",
    "unit_pattern = generate_unit_pattern(unit_map)\n",
    "\n",
    "def extract_numbers_and_units(text, correct_ocr_errors=True):\n",
    "    # Use the generated regex pattern to find numbers and units\n",
    "    if correct_ocr_errors:\n",
    "      corrections = {\n",
    "          'O': '0',  # O mistaken for zero\n",
    "          'D': '0',  # D mistaken for zero\n",
    "          'Q': '0',  # Q mistaken for zero\n",
    "          'Z': '2',  # Z mistaken for two\n",
    "          'S': '5',  # S mistaken for five\n",
    "          'B': '8',  # B mistaken for eight\n",
    "          'G': '6',  # G mistaken for six\n",
    "          'I': '1',  # Uppercase I mistaken for one\n",
    "          'l': '1',  # Lowercase l mistaken for one\n",
    "          'T': '7'   # T mistaken for seven\n",
    "      }\n",
    "      text = ''.join([corrections.get(c, c) for c in text])\n",
    "    matches = re.findall(unit_pattern, text, re.IGNORECASE)\n",
    "    return matches"
   ]
  },
  {
   "cell_type": "code",
   "execution_count": 43,
   "metadata": {},
   "outputs": [
    {
     "name": "stdout",
     "output_type": "stream",
     "text": [
      "100 <class 'str'> 1\n",
      "070 <class 'str'> 0\n",
      "070 hey 0.70\n"
     ]
    },
    {
     "data": {
      "text/plain": [
       "'0.70 volt'"
      ]
     },
     "execution_count": 43,
     "metadata": {},
     "output_type": "execute_result"
    }
   ],
   "source": [
    "def standardize_unit(unit: str, category: str):\n",
    "    # Normalize the unit by stripping spaces and converting to lowercase\n",
    "    unit = unit.lower().strip()\n",
    "\n",
    "    # Conversion mapping for shorthand to full unit names\n",
    "    conversion_map = {\n",
    "        'kv': 'kilovolt',\n",
    "        'v': 'volt',\n",
    "        'kw': 'kilowatt',\n",
    "        'w': 'watt',\n",
    "        'mg': 'milligram',\n",
    "        'g': 'gram',\n",
    "        'kg': 'kilogram',\n",
    "        'µg': 'microgram',\n",
    "        'lb': 'pound',\n",
    "        'cm': 'centimetre',\n",
    "        'mm': 'millimetre',\n",
    "        'm': 'metre',\n",
    "        'ft': 'foot',\n",
    "        'yd': 'yard',\n",
    "        'in': 'inch',\n",
    "        'oz': 'ounce'\n",
    "    }\n",
    "\n",
    "    # Check for possible shorthand conversions\n",
    "    if unit.lower() in conversion_map:\n",
    "        unit = conversion_map[unit]\n",
    "        return unit\n",
    "\n",
    "    # Match the converted unit to the standard name from entity_unit_map\n",
    "    for standard_unit in entity_unit_map[category]:\n",
    "        if unit in standard_unit:\n",
    "            return standard_unit\n",
    "\n",
    "    return None\n",
    "\n",
    "# Function to extract value and unit based on the required measurement type\n",
    "def extract_measurement(value_list, category, unit_map, entity_unit_map):\n",
    "    out = []\n",
    "    for value in value_list:\n",
    "        # Search for the numerical value and the unit in the string\n",
    "        smatch = re.search(r\"([0-9]+(?:\\.[0-9]+)?)\\s*([a-zA-Zµ³]+)\", value)\n",
    "        if smatch:\n",
    "            \n",
    "            number = smatch.group(1)\n",
    "            unit = smatch.group(2)\n",
    "\n",
    "            if number[0] == '0':\n",
    "               print(number, 'hey', \"0.\" + number[1:])\n",
    "               number = \"0.\" + number[1:]\n",
    "\n",
    "            # Check if the unit belongs to the specified category\n",
    "            if unit.lower() in unit_map[category]:\n",
    "                standardized_unit = standardize_unit(unit, category)\n",
    "                if standardized_unit:\n",
    "                    # Format the result as required\n",
    "                    return f\"{float(number):.2f} {standardized_unit}\"\n",
    "        else:\n",
    "          try:\n",
    "            if int(value):\n",
    "              out.append(value)\n",
    "          except:\n",
    "            pass\n",
    "    if out:\n",
    "      for e in entity_unit_map[category]:\n",
    "        break\n",
    "      return out[0] + \" \" + e\n",
    "    return \"\"  # Return empty string if no match\n",
    "\n",
    "extract_measurement(['100g', '25.6', '070v'], 'voltage', unit_map, entity_unit_map)"
   ]
  },
  {
   "cell_type": "code",
   "execution_count": 38,
   "metadata": {},
   "outputs": [
    {
     "name": "stdout",
     "output_type": "stream",
     "text": [
      "CPU times: total: 0 ns\n",
      "Wall time: 0 ns\n",
      "0 : 20.00 centimetre\n",
      "1 : 20.00 centimetre\n",
      "2 : 1 kilogram\n",
      "3 : 81 volt\n",
      "4 : 2100.00 watt\n",
      "5 : \n",
      "6 : 470  volt\n",
      "7 : 40.00 watt\n",
      "8 : 29.00 centimetre\n",
      "9 : \n",
      "10 : \n",
      "11 : \n",
      "12 : \n",
      "13 : \n",
      "14 : 7 kilogram\n",
      "15 : 5 centimetre\n",
      "16 : 5 centimetre\n",
      "17 : 6.20 inch\n",
      "18 : 6.20 inch\n",
      "19 : 9.00 metre\n",
      "20 : 9.00 metre\n",
      "21 : 9.00 metre\n",
      "22 : 69.00 centimetre\n",
      "23 : 69.00 centimetre\n",
      "24 : 12.00 volt\n",
      "25 : 1 watt\n",
      "26 : \n",
      "27 : \n",
      "28 : \n",
      "29 : \n",
      "30 : \n",
      "31 : \n",
      "32 : 6 centimetre\n",
      "33 : 6 centimetre\n",
      "34 : 7 kilogram\n",
      "35 : \n",
      "36 : 11.40 centimetre\n",
      "37 : 12.00 inch\n",
      "38 : 5 centimetre\n",
      "39 : 26.00 metre\n",
      "40 : 26.00 metre\n",
      "41 : 26.00 metre\n",
      "42 : 6 kilogram\n",
      "43 : 7 volt\n",
      "44 : 7 watt\n",
      "45 : \n",
      "46 : \n",
      "47 : \n",
      "48 : 6 kilogram\n",
      "49 : 45.00 watt\n",
      "50 : 6 volt\n",
      "51 : 1 watt\n",
      "52 : 1 centimetre\n",
      "53 : \n",
      "54 : \n",
      "55 : \n",
      "56 : 120.00 volt\n",
      "57 : 280.00 watt\n",
      "58 : \n",
      "59 : \n",
      "60 : \n",
      "61 : 15.00 metre\n",
      "62 : 51.00 centimetre\n",
      "63 : 5.00 gram\n",
      "64 : 5.00 gram\n",
      "65 : 05  volt\n",
      "66 : 4 kilogram\n",
      "67 : 500.00 watt\n",
      "68 : 80  kilogram\n",
      "69 : \n",
      "70 : \n",
      "71 : 6 volt\n",
      "72 : 6 watt\n",
      "73 : 1 volt\n",
      "74 : 110.00 watt\n",
      "75 : 070  kilogram\n",
      "76 : 070  kilogram\n",
      "77 : 7 kilogram\n",
      "78 : 60.00 watt\n",
      "79 : 265.00 volt\n",
      "80 : 100.00 watt\n",
      "81 : 1 kilogram\n",
      "82 : 1 kilogram\n",
      "83 : 1 kilogram\n",
      "84 : 5171.00 volt\n",
      "85 : 4 kilogram\n",
      "86 : \n",
      "87 : \n"
     ]
    }
   ],
   "source": [
    "%time\n",
    "prediction = []\n",
    "for i in range(len(output)):\n",
    "    value_list = extract_numbers_and_units(output[i])\n",
    "    category = test['entity_name'][i]\n",
    "    result = extract_measurement(value_list, category, unit_map, entity_unit_map)\n",
    "    result = result.replace('\\n', '')\n",
    "    prediction.append(result)\n",
    "for i in range(len(prediction)):\n",
    "    print(i, \":\", prediction[i])"
   ]
  },
  {
   "cell_type": "markdown",
   "metadata": {},
   "source": [
    "## Checking for accuracy"
   ]
  },
  {
   "cell_type": "code",
   "execution_count": 19,
   "metadata": {},
   "outputs": [
    {
     "data": {
      "text/html": [
       "<div>\n",
       "<style scoped>\n",
       "    .dataframe tbody tr th:only-of-type {\n",
       "        vertical-align: middle;\n",
       "    }\n",
       "\n",
       "    .dataframe tbody tr th {\n",
       "        vertical-align: top;\n",
       "    }\n",
       "\n",
       "    .dataframe thead th {\n",
       "        text-align: right;\n",
       "    }\n",
       "</style>\n",
       "<table border=\"1\" class=\"dataframe\">\n",
       "  <thead>\n",
       "    <tr style=\"text-align: right;\">\n",
       "      <th></th>\n",
       "      <th>index</th>\n",
       "      <th>prediction</th>\n",
       "    </tr>\n",
       "  </thead>\n",
       "  <tbody>\n",
       "    <tr>\n",
       "      <th>0</th>\n",
       "      <td>0</td>\n",
       "      <td>21.9 foot</td>\n",
       "    </tr>\n",
       "    <tr>\n",
       "      <th>1</th>\n",
       "      <td>1</td>\n",
       "      <td>10 foot</td>\n",
       "    </tr>\n",
       "    <tr>\n",
       "      <th>2</th>\n",
       "      <td>2</td>\n",
       "      <td>NaN</td>\n",
       "    </tr>\n",
       "    <tr>\n",
       "      <th>3</th>\n",
       "      <td>3</td>\n",
       "      <td>289.52 kilovolt</td>\n",
       "    </tr>\n",
       "    <tr>\n",
       "      <th>4</th>\n",
       "      <td>4</td>\n",
       "      <td>1078.99 kilowatt</td>\n",
       "    </tr>\n",
       "  </tbody>\n",
       "</table>\n",
       "</div>"
      ],
      "text/plain": [
       "   index        prediction\n",
       "0      0         21.9 foot\n",
       "1      1           10 foot\n",
       "2      2               NaN\n",
       "3      3   289.52 kilovolt\n",
       "4      4  1078.99 kilowatt"
      ]
     },
     "execution_count": 19,
     "metadata": {},
     "output_type": "execute_result"
    }
   ],
   "source": [
    "y = pd.read_csv('../dataset/sample_test_out.csv')\n",
    "y.head()"
   ]
  },
  {
   "cell_type": "code",
   "execution_count": 37,
   "metadata": {},
   "outputs": [
    {
     "data": {
      "text/plain": [
       "index                                     75\n",
       "image_link                       71afEPoRGsL\n",
       "group_id                              701880\n",
       "entity_name    maximum_weight_recommendation\n",
       "Name: 75, dtype: object"
      ]
     },
     "execution_count": 37,
     "metadata": {},
     "output_type": "execute_result"
    }
   ],
   "source": [
    "test.iloc[75]"
   ]
  }
 ],
 "metadata": {
  "kernelspec": {
   "display_name": "env",
   "language": "python",
   "name": "python3"
  },
  "language_info": {
   "codemirror_mode": {
    "name": "ipython",
    "version": 3
   },
   "file_extension": ".py",
   "mimetype": "text/x-python",
   "name": "python",
   "nbconvert_exporter": "python",
   "pygments_lexer": "ipython3",
   "version": "3.9.9"
  }
 },
 "nbformat": 4,
 "nbformat_minor": 2
}
